{
 "cells": [
  {
   "cell_type": "code",
   "execution_count": 1,
   "metadata": {},
   "outputs": [
    {
     "name": "stdout",
     "output_type": "stream",
     "text": [
      "Untitled.ipynb\n",
      "\u001b[34mday2 \u001b[m\u001b[m/\n",
      "\u001b[34msetting-up-a-professional-data-science-environment\u001b[m\u001b[m/\n"
     ]
    }
   ],
   "source": [
    "ls\n"
   ]
  },
  {
   "cell_type": "code",
   "execution_count": 2,
   "metadata": {},
   "outputs": [
    {
     "name": "stdout",
     "output_type": "stream",
     "text": [
      "[Errno 2] No such file or directory: 'day2'\n",
      "/Users/khadeja/flatiron\n"
     ]
    }
   ],
   "source": [
    "cd day2\n"
   ]
  },
  {
   "cell_type": "code",
   "execution_count": 3,
   "metadata": {},
   "outputs": [
    {
     "name": "stdout",
     "output_type": "stream",
     "text": [
      "[Errno 2] No such file or directory: 'day2'\n",
      "/Users/khadeja/flatiron\n"
     ]
    }
   ],
   "source": [
    "cd day2"
   ]
  },
  {
   "cell_type": "code",
   "execution_count": 4,
   "metadata": {},
   "outputs": [
    {
     "name": "stdout",
     "output_type": "stream",
     "text": [
      "Untitled.ipynb\n",
      "\u001b[34mday2 \u001b[m\u001b[m/\n",
      "\u001b[34msetting-up-a-professional-data-science-environment\u001b[m\u001b[m/\n"
     ]
    }
   ],
   "source": [
    "ls\n"
   ]
  },
  {
   "cell_type": "code",
   "execution_count": 5,
   "metadata": {},
   "outputs": [
    {
     "name": "stdout",
     "output_type": "stream",
     "text": [
      "/Users/khadeja/flatiron/day2 \n"
     ]
    }
   ],
   "source": [
    "cd day2\\ "
   ]
  },
  {
   "cell_type": "code",
   "execution_count": 6,
   "metadata": {},
   "outputs": [],
   "source": [
    "ls \n"
   ]
  },
  {
   "cell_type": "code",
   "execution_count": 7,
   "metadata": {},
   "outputs": [
    {
     "ename": "SyntaxError",
     "evalue": "invalid syntax (<ipython-input-7-16b28a3b504e>, line 1)",
     "output_type": "error",
     "traceback": [
      "\u001b[0;36m  File \u001b[0;32m\"<ipython-input-7-16b28a3b504e>\"\u001b[0;36m, line \u001b[0;32m1\u001b[0m\n\u001b[0;31m    git clone https://github.com/learn-co-students/ds-skills-loops-cond-practice-london-ds-091018.git\u001b[0m\n\u001b[0m            ^\u001b[0m\n\u001b[0;31mSyntaxError\u001b[0m\u001b[0;31m:\u001b[0m invalid syntax\n"
     ]
    }
   ],
   "source": [
    "git clone https://github.com/learn-co-students/ds-skills-loops-cond-practice-london-ds-091018.git"
   ]
  },
  {
   "cell_type": "code",
   "execution_count": 8,
   "metadata": {},
   "outputs": [
    {
     "name": "stdout",
     "output_type": "stream",
     "text": [
      "\u001b[34mds-skills-loops-cond-practice-london-ds-091018\u001b[m\u001b[m/\n"
     ]
    }
   ],
   "source": [
    "ls\n"
   ]
  },
  {
   "cell_type": "code",
   "execution_count": 9,
   "metadata": {},
   "outputs": [
    {
     "name": "stdout",
     "output_type": "stream",
     "text": [
      "/Users/khadeja/flatiron/day2 /ds-skills-loops-cond-practice-london-ds-091018\n"
     ]
    }
   ],
   "source": [
    "cd ds-skills-loops-cond-practice-london-ds-091018/\n"
   ]
  },
  {
   "cell_type": "code",
   "execution_count": 10,
   "metadata": {},
   "outputs": [
    {
     "name": "stdout",
     "output_type": "stream",
     "text": [
      "README.md    index.ipynb\n"
     ]
    }
   ],
   "source": [
    "ls\n"
   ]
  },
  {
   "cell_type": "code",
   "execution_count": 11,
   "metadata": {},
   "outputs": [
    {
     "name": "stdout",
     "output_type": "stream",
     "text": [
      "0 0\n",
      "1 1\n",
      "2 4\n",
      "3 9\n",
      "4 16\n"
     ]
    }
   ],
   "source": [
    "for i in range(5):\n",
    "    print(i, i**2)"
   ]
  },
  {
   "cell_type": "code",
   "execution_count": 12,
   "metadata": {},
   "outputs": [
    {
     "name": "stdout",
     "output_type": "stream",
     "text": [
      "This is the start of the program.\n",
      "This is the start of iteration.\n",
      "i is: 0\n",
      "i is even\n",
      "\n",
      "\n",
      "i is: 1\n",
      "i is odd, but not prime\n",
      "\n",
      "\n",
      "i is: 2\n",
      "i is even\n",
      "\n",
      "\n",
      "i is: 3\n",
      "i is prime!\n",
      "\n",
      "\n",
      "i is: 4\n",
      "i is even\n",
      "\n",
      "\n",
      "i is: 5\n",
      "i is prime!\n",
      "\n",
      "\n",
      "i is: 6\n",
      "i is even\n",
      "\n",
      "\n",
      "i is: 7\n",
      "i is prime!\n",
      "\n",
      "\n",
      "i is: 8\n",
      "i is even\n",
      "\n",
      "\n",
      "i is: 9\n",
      "i is odd, but not prime\n",
      "\n",
      "\n",
      "i is: 10\n",
      "i is even\n",
      "\n",
      "\n",
      "i is: 11\n",
      "i is prime!\n",
      "\n",
      "\n",
      "For loop complete.\n",
      "Script complete.\n"
     ]
    }
   ],
   "source": [
    "print('This is the start of the program.')\n",
    "print('This is the start of iteration.')\n",
    "for i in range(12):\n",
    "    #This is the start of the for loop.\n",
    "    print('i is: {}'.format(i)) #This happens every iteration\n",
    "    \n",
    "    if i % 2 == 0:\n",
    "        print('i is even')\n",
    "    elif i in [3,5,7,11]:\n",
    "        print('i is prime!')\n",
    "    elif i == 4:\n",
    "        print('i is 4') #This will never actually happen because the conditional terminates since 4 is also even\n",
    "    else:\n",
    "        print('i is odd, but not prime')\n",
    "    \n",
    "    print('\\n') #This is outside both conditional blocks. This happens once per iteration\n",
    "    #Iteration completes, program returns to start of iteration block.\n",
    "print('For loop complete.')\n",
    "print('Script complete.')"
   ]
  },
  {
   "cell_type": "code",
   "execution_count": 13,
   "metadata": {},
   "outputs": [
    {
     "name": "stdout",
     "output_type": "stream",
     "text": [
      "6\n",
      "7\n",
      "8\n",
      "9\n"
     ]
    }
   ],
   "source": [
    "for i in range(50):\n",
    "    if i >5:\n",
    "        #Works but cautionary style. Often can become difficult to read. Do not overnest conditionals.\n",
    "        if i < 10:\n",
    "            print(i)#to be executed"
   ]
  },
  {
   "cell_type": "code",
   "execution_count": 14,
   "metadata": {},
   "outputs": [
    {
     "name": "stdout",
     "output_type": "stream",
     "text": [
      "This is the start of the program.\n",
      "This is the start of iteration.\n",
      "i is: 0\n",
      "This is the first condition block.\n",
      "i is less then 6\n",
      "This is the second condition block.\n",
      "i is even\n",
      "\n",
      "\n",
      "i is: 1\n",
      "This is the first condition block.\n",
      "i is less then 6\n",
      "This is the second condition block.\n",
      "i is odd\n",
      "\n",
      "\n",
      "i is: 2\n",
      "This is the first condition block.\n",
      "i is less then 6\n",
      "This is the second condition block.\n",
      "i is even\n",
      "\n",
      "\n",
      "i is: 3\n",
      "This is the first condition block.\n",
      "i is less then 6\n",
      "This is the second condition block.\n",
      "i is odd\n",
      "\n",
      "\n",
      "i is: 4\n",
      "This is the first condition block.\n",
      "i is less then 6\n",
      "This is the second condition block.\n",
      "i is even\n",
      "\n",
      "\n",
      "i is: 5\n",
      "This is the first condition block.\n",
      "i is less then 6\n",
      "This is the second condition block.\n",
      "i is odd\n",
      "\n",
      "\n",
      "i is: 6\n",
      "This is the first condition block.\n",
      "i is even\n",
      "this statement only executes if the if condition above (i<6) is false.\n",
      "This is the second condition block.\n",
      "i is even\n",
      "\n",
      "\n",
      "i is: 7\n",
      "This is the first condition block.\n",
      "i is 7!\n",
      "This is the second condition block.\n",
      "i is odd\n",
      "\n",
      "\n",
      "i is: 8\n",
      "This is the first condition block.\n",
      "i is even\n",
      "this statement only executes if the if condition above (i<6) is false.\n",
      "This is the second condition block.\n",
      "i is even\n",
      "\n",
      "\n",
      "i is: 9\n",
      "This is the first condition block.\n",
      "Bigger then 7, and odd\n",
      "This is the second condition block.\n",
      "i is odd\n",
      "\n",
      "\n",
      "i is: 10\n",
      "This is the first condition block.\n",
      "i is even\n",
      "this statement only executes if the if condition above (i<6) is false.\n",
      "This is the second condition block.\n",
      "i is even\n",
      "\n",
      "\n",
      "i is: 11\n",
      "This is the first condition block.\n",
      "Bigger then 7, and odd\n",
      "This is the second condition block.\n",
      "i is odd\n",
      "\n",
      "\n",
      "For loop complete.\n",
      "Script complete.\n"
     ]
    }
   ],
   "source": [
    "print('This is the start of the program.')\n",
    "print('This is the start of iteration.')\n",
    "for i in range(12):\n",
    "    #This is the start of the for loop.\n",
    "    print('i is: {}'.format(i)) #This happens every iteration\n",
    "    print('This is the first condition block.')\n",
    "    #This is the start of our conditional block\n",
    "    if i < 6:\n",
    "        print('i is less then 6') #This is inside the 'if i < 6 condition'\n",
    "    elif i % 2 == 0:\n",
    "        print('i is even') #This is inside the 'elif i % 2 == 0 condition'\n",
    "        print('this statement only executes if the if condition above (i<6) is false.')\n",
    "        #The elif condition is only reached if the preceeding if statement is false.\n",
    "        #Once one of the branches is triggered, the program exits this entire conditional block\n",
    "    elif i == 7:\n",
    "        print('i is 7!')\n",
    "    else:\n",
    "        print('Bigger then 7, and odd')\n",
    "    #End of first conditional block\n",
    "    \n",
    "    #Start of second conditional block\n",
    "    print('This is the second condition block.')\n",
    "    if i % 2 == 0:\n",
    "        print('i is even')\n",
    "    else:\n",
    "        print('i is odd')\n",
    "    #End of second contional block\n",
    "    \n",
    "    print('\\n') #This is outside both conditional blocks. This happens once per iteration\n",
    "    #Iteration completes, program returns to start of iteration block.\n",
    "print('For loop complete.')\n",
    "print('Script complete.')"
   ]
  },
  {
   "cell_type": "code",
   "execution_count": 32,
   "metadata": {},
   "outputs": [
    {
     "name": "stdout",
     "output_type": "stream",
     "text": [
      "i is: 0\n",
      "i is even\n",
      "is divisible by 14\n",
      "i is: 1\n",
      "i is odd\n",
      "i is: 2\n",
      "i is even\n",
      "i is: 3\n",
      "3 is a prime number\n",
      "i is: 4\n",
      "i is even\n",
      "i is: 5\n",
      "5 is a prime number\n",
      "i is: 6\n",
      "i is even\n",
      "i is: 7\n",
      "7 is a prime number\n",
      "i is: 8\n",
      "i is even\n",
      "i is: 9\n",
      "9 is a prime number\n",
      "i is: 10\n",
      "i is even\n",
      "i is: 11\n",
      "11 is a prime number\n",
      "i is: 12\n",
      "i is even\n",
      "i is: 13\n",
      "13 is a prime number\n",
      "i is: 14\n",
      "i is even\n",
      "is divisible by 14\n",
      "i is: 15\n",
      "15 is a prime number\n",
      "i is: 16\n",
      "i is even\n",
      "i is: 17\n",
      "17 is a prime number\n",
      "i is: 18\n",
      "i is even\n",
      "i is: 19\n",
      "19 is a prime number\n",
      "i is: 20\n",
      "i is even\n",
      "i is: 21\n",
      "21 is a prime number\n",
      "i is: 22\n",
      "i is even\n",
      "i is: 23\n",
      "23 is a prime number\n",
      "i is: 24\n",
      "i is even\n",
      "i is: 25\n",
      "25 is a prime number\n",
      "i is: 26\n",
      "i is even\n",
      "i is: 27\n",
      "27 is a prime number\n",
      "i is: 28\n",
      "i is even\n",
      "is divisible by 14\n",
      "i is: 29\n",
      "29 is a prime number\n",
      "i is: 30\n",
      "i is even\n",
      "i is: 31\n",
      "i is: 32\n",
      "this happens twice!\n",
      "i is: 33\n",
      "i is: 34\n",
      "i is: 35\n",
      "i is: 36\n",
      "i is: 37\n",
      "i is: 38\n",
      "i is: 39\n",
      "i is: 40\n",
      "this happens twice!\n",
      "i is: 41\n",
      "i is: 42\n",
      "i is: 43\n",
      "i is: 44\n",
      "i is: 45\n",
      "i is: 46\n",
      "i is: 47\n",
      "i is: 48\n",
      "i is: 49\n",
      "i is: 50\n",
      "i is: 51\n",
      "i is: 52\n",
      "i is: 53\n",
      "i is: 54\n",
      "i is: 55\n",
      "i is: 56\n",
      "i is: 57\n",
      "i is: 58\n",
      "i is: 59\n",
      "i is: 60\n",
      "i is: 61\n",
      "i is: 62\n",
      "i is: 63\n",
      "i is: 64\n",
      "i is: 65\n",
      "i is: 66\n",
      "i is: 67\n",
      "i is: 68\n",
      "i is: 69\n",
      "i is: 70\n",
      "i is: 71\n",
      "i is: 72\n",
      "i is: 73\n",
      "i is: 74\n",
      "i is: 75\n",
      "i is: 76\n",
      "i is: 77\n",
      "i is: 78\n",
      "i is: 79\n",
      "i is: 80\n",
      "i is: 81\n",
      "i is: 82\n",
      "i is: 83\n",
      "i is: 84\n",
      "i is: 85\n",
      "i is: 86\n",
      "i is: 87\n",
      "i is: 88\n",
      "i is: 89\n",
      "i is: 90\n",
      "i is: 91\n",
      "i is: 92\n",
      "i is: 93\n",
      "i is: 94\n",
      "i is: 95\n",
      "i is: 96\n",
      "i is: 97\n",
      "i is: 98\n",
      "i is: 99\n"
     ]
    }
   ],
   "source": [
    "for i in range(100):\n",
    "    print('i is: {}'.format(i)) #This happens every iteration\n",
    "    #nested loop \n",
    "    if (i>30) :\n",
    "        if i<45 :\n",
    "            if i % 8 == 0:\n",
    "                print ('this happens twice!')\n",
    "                #if even \n",
    "    elif i % 2 == 0:\n",
    "        print('i is even')\n",
    "        if i%7 == 0 :\n",
    "            print('is divisible by 14')\n",
    "    \n",
    "    \n",
    "    elif i>1:\n",
    "        for j in range(2, i):\n",
    "            if (i % j) == 0:\n",
    "                print(i, \"is not a prime number\")\n",
    "                break\n",
    "            else:\n",
    "                print(i, \"is a prime number\")\n",
    "                break \n",
    "\n",
    "    else:\n",
    "        print('i is odd')\n",
    "        if i%5 == 0 :\n",
    "            print('high five!')\n",
    "    \n",
    "          \n",
    "     "
   ]
  },
  {
   "cell_type": "code",
   "execution_count": null,
   "metadata": {},
   "outputs": [],
   "source": []
  }
 ],
 "metadata": {
  "kernelspec": {
   "display_name": "Python 3",
   "language": "python",
   "name": "python3"
  },
  "language_info": {
   "codemirror_mode": {
    "name": "ipython",
    "version": 3
   },
   "file_extension": ".py",
   "mimetype": "text/x-python",
   "name": "python",
   "nbconvert_exporter": "python",
   "pygments_lexer": "ipython3",
   "version": "3.6.5"
  }
 },
 "nbformat": 4,
 "nbformat_minor": 2
}
